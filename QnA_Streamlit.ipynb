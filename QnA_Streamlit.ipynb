{
  "nbformat": 4,
  "nbformat_minor": 0,
  "metadata": {
    "colab": {
      "name": "QnA-Streamlit.ipynb",
      "provenance": [],
      "authorship_tag": "ABX9TyNlR5z6fUTeFcqmEaaSDWhy",
      "include_colab_link": true
    },
    "kernelspec": {
      "name": "python3",
      "display_name": "Python 3"
    },
    "language_info": {
      "name": "python"
    }
  },
  "cells": [
    {
      "cell_type": "markdown",
      "metadata": {
        "id": "view-in-github",
        "colab_type": "text"
      },
      "source": [
        "<a href=\"https://colab.research.google.com/github/nagavatar/QnAusingstreamlit/blob/main/QnA_Streamlit.ipynb\" target=\"_parent\"><img src=\"https://colab.research.google.com/assets/colab-badge.svg\" alt=\"Open In Colab\"/></a>"
      ]
    },
    {
      "cell_type": "markdown",
      "metadata": {
        "id": "3bFWpmcYummQ"
      },
      "source": [
        "# Installing and importing necessary libraries"
      ]
    },
    {
      "cell_type": "code",
      "metadata": {
        "colab": {
          "base_uri": "https://localhost:8080/"
        },
        "id": "dpxuut7ph4LV",
        "outputId": "46be86fa-dc1f-49ca-b5ea-2cf0dfea5487"
      },
      "source": [
        "!pip install -q streamlit\n",
        "!pip install transformers\n",
        "!pip install colab-everything\n",
        "import tensorflow as tf\n",
        "import torch as T"
      ],
      "execution_count": 3,
      "outputs": [
        {
          "output_type": "stream",
          "text": [
            "\u001b[K     |████████████████████████████████| 8.2MB 7.7MB/s \n",
            "\u001b[K     |████████████████████████████████| 163kB 43.2MB/s \n",
            "\u001b[K     |████████████████████████████████| 112kB 43.5MB/s \n",
            "\u001b[K     |████████████████████████████████| 81kB 8.1MB/s \n",
            "\u001b[K     |████████████████████████████████| 4.2MB 36.4MB/s \n",
            "\u001b[K     |████████████████████████████████| 71kB 7.4MB/s \n",
            "\u001b[K     |████████████████████████████████| 122kB 43.2MB/s \n",
            "\u001b[?25h  Building wheel for blinker (setup.py) ... \u001b[?25l\u001b[?25hdone\n",
            "\u001b[31mERROR: google-colab 1.0.0 has requirement ipykernel~=4.10, but you'll have ipykernel 5.5.3 which is incompatible.\u001b[0m\n",
            "Collecting transformers\n",
            "\u001b[?25l  Downloading https://files.pythonhosted.org/packages/d8/b2/57495b5309f09fa501866e225c84532d1fd89536ea62406b2181933fb418/transformers-4.5.1-py3-none-any.whl (2.1MB)\n",
            "\u001b[K     |████████████████████████████████| 2.1MB 8.6MB/s \n",
            "\u001b[?25hRequirement already satisfied: packaging in /usr/local/lib/python3.7/dist-packages (from transformers) (20.9)\n",
            "Requirement already satisfied: tqdm>=4.27 in /usr/local/lib/python3.7/dist-packages (from transformers) (4.41.1)\n",
            "Requirement already satisfied: numpy>=1.17 in /usr/local/lib/python3.7/dist-packages (from transformers) (1.19.5)\n",
            "Collecting sacremoses\n",
            "\u001b[?25l  Downloading https://files.pythonhosted.org/packages/75/ee/67241dc87f266093c533a2d4d3d69438e57d7a90abb216fa076e7d475d4a/sacremoses-0.0.45-py3-none-any.whl (895kB)\n",
            "\u001b[K     |████████████████████████████████| 901kB 16.4MB/s \n",
            "\u001b[?25hCollecting tokenizers<0.11,>=0.10.1\n",
            "\u001b[?25l  Downloading https://files.pythonhosted.org/packages/ae/04/5b870f26a858552025a62f1649c20d29d2672c02ff3c3fb4c688ca46467a/tokenizers-0.10.2-cp37-cp37m-manylinux2010_x86_64.whl (3.3MB)\n",
            "\u001b[K     |████████████████████████████████| 3.3MB 46.7MB/s \n",
            "\u001b[?25hRequirement already satisfied: requests in /usr/local/lib/python3.7/dist-packages (from transformers) (2.23.0)\n",
            "Requirement already satisfied: regex!=2019.12.17 in /usr/local/lib/python3.7/dist-packages (from transformers) (2019.12.20)\n",
            "Requirement already satisfied: importlib-metadata; python_version < \"3.8\" in /usr/local/lib/python3.7/dist-packages (from transformers) (3.10.1)\n",
            "Requirement already satisfied: filelock in /usr/local/lib/python3.7/dist-packages (from transformers) (3.0.12)\n",
            "Requirement already satisfied: pyparsing>=2.0.2 in /usr/local/lib/python3.7/dist-packages (from packaging->transformers) (2.4.7)\n",
            "Requirement already satisfied: joblib in /usr/local/lib/python3.7/dist-packages (from sacremoses->transformers) (1.0.1)\n",
            "Requirement already satisfied: click in /usr/local/lib/python3.7/dist-packages (from sacremoses->transformers) (7.1.2)\n",
            "Requirement already satisfied: six in /usr/local/lib/python3.7/dist-packages (from sacremoses->transformers) (1.15.0)\n",
            "Requirement already satisfied: urllib3!=1.25.0,!=1.25.1,<1.26,>=1.21.1 in /usr/local/lib/python3.7/dist-packages (from requests->transformers) (1.24.3)\n",
            "Requirement already satisfied: chardet<4,>=3.0.2 in /usr/local/lib/python3.7/dist-packages (from requests->transformers) (3.0.4)\n",
            "Requirement already satisfied: idna<3,>=2.5 in /usr/local/lib/python3.7/dist-packages (from requests->transformers) (2.10)\n",
            "Requirement already satisfied: certifi>=2017.4.17 in /usr/local/lib/python3.7/dist-packages (from requests->transformers) (2020.12.5)\n",
            "Requirement already satisfied: zipp>=0.5 in /usr/local/lib/python3.7/dist-packages (from importlib-metadata; python_version < \"3.8\"->transformers) (3.4.1)\n",
            "Requirement already satisfied: typing-extensions>=3.6.4; python_version < \"3.8\" in /usr/local/lib/python3.7/dist-packages (from importlib-metadata; python_version < \"3.8\"->transformers) (3.7.4.3)\n",
            "Installing collected packages: sacremoses, tokenizers, transformers\n",
            "Successfully installed sacremoses-0.0.45 tokenizers-0.10.2 transformers-4.5.1\n",
            "Collecting colab-everything\n",
            "  Downloading https://files.pythonhosted.org/packages/da/00/48d2d30ca813f0e2b274431a47ebde08c1774dad7422129627f13a0a1cbb/colab_everything-0.0.9-py3-none-any.whl\n",
            "Collecting pyngrok\n",
            "\u001b[?25l  Downloading https://files.pythonhosted.org/packages/6b/4e/a2fe095bbe17cf26424c4abcd22a0490e22d01cc628f25af5e220ddbf6f0/pyngrok-5.0.5.tar.gz (745kB)\n",
            "\u001b[K     |████████████████████████████████| 747kB 7.7MB/s \n",
            "\u001b[?25hCollecting urllib3==1.25.10\n",
            "\u001b[?25l  Downloading https://files.pythonhosted.org/packages/9f/f0/a391d1463ebb1b233795cabfc0ef38d3db4442339de68f847026199e69d7/urllib3-1.25.10-py2.py3-none-any.whl (127kB)\n",
            "\u001b[K     |████████████████████████████████| 133kB 39.8MB/s \n",
            "\u001b[?25hRequirement already satisfied: PyYAML in /usr/local/lib/python3.7/dist-packages (from pyngrok->colab-everything) (3.13)\n",
            "Building wheels for collected packages: pyngrok\n",
            "  Building wheel for pyngrok (setup.py) ... \u001b[?25l\u001b[?25hdone\n",
            "  Created wheel for pyngrok: filename=pyngrok-5.0.5-cp37-none-any.whl size=19246 sha256=5e909b9e2f3d749c9c0894ec37d7a9bccf993264b6d5979753cb634b95740f5c\n",
            "  Stored in directory: /root/.cache/pip/wheels/0c/13/64/5ebbcc22eaf53fdf5766b397c1fb17c83f5775fdccf0ea1b88\n",
            "Successfully built pyngrok\n",
            "\u001b[31mERROR: google-colab 1.0.0 has requirement ipykernel~=4.10, but you'll have ipykernel 5.5.3 which is incompatible.\u001b[0m\n",
            "\u001b[31mERROR: datascience 0.10.6 has requirement folium==0.2.1, but you'll have folium 0.8.3 which is incompatible.\u001b[0m\n",
            "Installing collected packages: pyngrok, urllib3, colab-everything\n",
            "  Found existing installation: urllib3 1.24.3\n",
            "    Uninstalling urllib3-1.24.3:\n",
            "      Successfully uninstalled urllib3-1.24.3\n",
            "Successfully installed colab-everything-0.0.9 pyngrok-5.0.5 urllib3-1.25.10\n"
          ],
          "name": "stdout"
        }
      ]
    },
    {
      "cell_type": "code",
      "metadata": {
        "id": "l2YJhJcUhROS"
      },
      "source": [
        "import streamlit as st\n",
        "from transformers import pipeline\n"
      ],
      "execution_count": 1,
      "outputs": []
    },
    {
      "cell_type": "markdown",
      "metadata": {
        "id": "u9HfTuEUu-ju"
      },
      "source": [
        "# Fetching app.py from github"
      ]
    },
    {
      "cell_type": "code",
      "metadata": {
        "colab": {
          "base_uri": "https://localhost:8080/"
        },
        "id": "khlMrquqhXOt",
        "outputId": "9bdb9ae4-a240-4389-b4e8-adc9fa13f92b"
      },
      "source": [
        "!wget https://github.com/nagavatar/QnAusingstreamlit/blob/main/app.py"
      ],
      "execution_count": 2,
      "outputs": [
        {
          "output_type": "stream",
          "text": [
            "--2021-04-20 10:11:27--  https://github.com/nagavatar/QnAusingstreamlit/blob/main/app.py\n",
            "Resolving github.com (github.com)... 192.30.255.113\n",
            "Connecting to github.com (github.com)|192.30.255.113|:443... connected.\n",
            "HTTP request sent, awaiting response... 200 OK\n",
            "Length: unspecified [text/html]\n",
            "Saving to: ‘app.py.4’\n",
            "\n",
            "app.py.4                [ <=>                ] 115.88K  --.-KB/s    in 0.02s   \n",
            "\n",
            "2021-04-20 10:11:28 (4.84 MB/s) - ‘app.py.4’ saved [118665]\n",
            "\n"
          ],
          "name": "stdout"
        }
      ]
    },
    {
      "cell_type": "markdown",
      "metadata": {
        "id": "_vNSm9xcvJ_E"
      },
      "source": [
        "# Installing ngrok"
      ]
    },
    {
      "cell_type": "code",
      "metadata": {
        "colab": {
          "base_uri": "https://localhost:8080/"
        },
        "id": "vdnIck93it8H",
        "outputId": "f281b3c9-0481-4670-a119-7ed96b92b58b"
      },
      "source": [
        "!wget https://bin.equinox.io/c/4VmDzA7iaHb/ngrok-stable-linux-amd64.zip"
      ],
      "execution_count": 3,
      "outputs": [
        {
          "output_type": "stream",
          "text": [
            "--2021-04-20 10:11:32--  https://bin.equinox.io/c/4VmDzA7iaHb/ngrok-stable-linux-amd64.zip\n",
            "Resolving bin.equinox.io (bin.equinox.io)... 52.55.225.227, 54.236.206.131, 34.225.127.47, ...\n",
            "Connecting to bin.equinox.io (bin.equinox.io)|52.55.225.227|:443... connected.\n",
            "HTTP request sent, awaiting response... 200 OK\n",
            "Length: 13828408 (13M) [application/octet-stream]\n",
            "Saving to: ‘ngrok-stable-linux-amd64.zip.3’\n",
            "\n",
            "ngrok-stable-linux- 100%[===================>]  13.19M  18.5MB/s    in 0.7s    \n",
            "\n",
            "2021-04-20 10:11:33 (18.5 MB/s) - ‘ngrok-stable-linux-amd64.zip.3’ saved [13828408/13828408]\n",
            "\n"
          ],
          "name": "stdout"
        }
      ]
    },
    {
      "cell_type": "code",
      "metadata": {
        "colab": {
          "base_uri": "https://localhost:8080/"
        },
        "id": "OXmkvzOvk6y1",
        "outputId": "7ad140ce-fd78-4a14-dec0-47a005fd7264"
      },
      "source": [
        "!unzip ngrok-stable-linux-amd64.zip"
      ],
      "execution_count": 4,
      "outputs": [
        {
          "output_type": "stream",
          "text": [
            "Archive:  ngrok-stable-linux-amd64.zip\n",
            "replace ngrok? [y]es, [n]o, [A]ll, [N]one, [r]ename: y\n",
            "  inflating: ngrok                   \n"
          ],
          "name": "stdout"
        }
      ]
    },
    {
      "cell_type": "code",
      "metadata": {
        "id": "mIjeTzCek2aO"
      },
      "source": [
        "get_ipython().system_raw('./ngrok http 8501 &')"
      ],
      "execution_count": 5,
      "outputs": []
    },
    {
      "cell_type": "code",
      "metadata": {
        "colab": {
          "base_uri": "https://localhost:8080/"
        },
        "id": "N10fhzt1k-TP",
        "outputId": "a4ca3b15-f051-48ae-b9df-09d2110b447b"
      },
      "source": [
        "!curl -s http://localhost:4040/api/tunnels | python3 -c \\\n",
        "    'import sys, json; print(\"Execute the next cell and the go to the following URL: \" +json.load(sys.stdin)[\"tunnels\"][0][\"public_url\"])'"
      ],
      "execution_count": 7,
      "outputs": [
        {
          "output_type": "stream",
          "text": [
            "Execute the next cell and the go to the following URL: https://07a6b26dd610.ngrok.io\n"
          ],
          "name": "stdout"
        }
      ]
    },
    {
      "cell_type": "code",
      "metadata": {
        "colab": {
          "base_uri": "https://localhost:8080/"
        },
        "id": "SFk3Z_J1vWqC",
        "outputId": "4a982c02-e7ab-4be8-de7b-c83d08a99205"
      },
      "source": [
        "!streamlit run /content/app.py"
      ],
      "execution_count": 9,
      "outputs": [
        {
          "output_type": "stream",
          "text": [
            "\u001b[34m  Stopping...\u001b[0m\n"
          ],
          "name": "stdout"
        }
      ]
    },
    {
      "cell_type": "markdown",
      "metadata": {
        "id": "LWwb0NTSvgZX"
      },
      "source": [
        "# Alternate way\n",
        "If above way is not working, then we can add app.py file to drive and mount and run it from below code"
      ]
    },
    {
      "cell_type": "code",
      "metadata": {
        "colab": {
          "base_uri": "https://localhost:8080/"
        },
        "id": "kuQc2jNckTsD",
        "outputId": "94478062-874c-4910-d4f0-0011d2fba16d"
      },
      "source": [
        "from google.colab import drive\n",
        "drive.mount('/content/drive')"
      ],
      "execution_count": 8,
      "outputs": [
        {
          "output_type": "stream",
          "text": [
            "Mounted at /content/drive\n"
          ],
          "name": "stdout"
        }
      ]
    },
    {
      "cell_type": "code",
      "metadata": {
        "colab": {
          "base_uri": "https://localhost:8080/"
        },
        "id": "rQX0dx7MkuRt",
        "outputId": "3787b855-2a00-42eb-86fc-4ec12fb048c3"
      },
      "source": [
        "!ls \"/content/drive/MyDrive\""
      ],
      "execution_count": 8,
      "outputs": [
        {
          "output_type": "stream",
          "text": [
            " 20210104_164742.jpg  'Data for ML'\t       UPSC_Marksheet.jpg\n",
            " app.py\t\t       Dataset_ST662\n",
            "'Colab Notebooks'      Spark_AnalyticsVidhya\n"
          ],
          "name": "stdout"
        }
      ]
    },
    {
      "cell_type": "code",
      "metadata": {
        "colab": {
          "base_uri": "https://localhost:8080/"
        },
        "id": "aLRql3d4lB5N",
        "outputId": "15746a50-2b58-4558-a14b-c91966cf4f24"
      },
      "source": [
        "!streamlit run \"/content/drive/MyDrive/app.py\""
      ],
      "execution_count": 9,
      "outputs": [
        {
          "output_type": "stream",
          "text": [
            "\u001b[0m\n",
            "\u001b[34m\u001b[1m  You can now view your Streamlit app in your browser.\u001b[0m\n",
            "\u001b[0m\n",
            "\u001b[34m  Network URL: \u001b[0m\u001b[1mhttp://172.28.0.2:8501\u001b[0m\n",
            "\u001b[34m  External URL: \u001b[0m\u001b[1mhttp://35.230.105.195:8501\u001b[0m\n",
            "\u001b[0m\n",
            "2021-04-20 10:12:06.590482: I tensorflow/stream_executor/platform/default/dso_loader.cc:49] Successfully opened dynamic library libcudart.so.11.0\n",
            "\u001b[34m  Stopping...\u001b[0m\n"
          ],
          "name": "stdout"
        }
      ]
    },
    {
      "cell_type": "markdown",
      "metadata": {
        "id": "DlvYMjMjvvvn"
      },
      "source": [
        "# Colabstream lit \n",
        "If you don't want to manually install ngrok and unzip it then this colabstream is for you. It will do all things in single line of code."
      ]
    },
    {
      "cell_type": "code",
      "metadata": {
        "colab": {
          "base_uri": "https://localhost:8080/"
        },
        "id": "R-u_15hUlgGs",
        "outputId": "371c3839-6d4b-4e0b-87e5-0fbc8bd17d6a"
      },
      "source": [
        "from colab_everything import ColabStreamlit\n",
        "ColabStreamlit('/content/drive/MyDrive/app.py') # streamlit app path"
      ],
      "execution_count": null,
      "outputs": [
        {
          "output_type": "stream",
          "text": [
            ""
          ],
          "name": "stdout"
        },
        {
          "output_type": "stream",
          "text": [
            "2021-04-20 09:25:33.675 INFO    pyngrok.process.ngrok: t=2021-04-20T09:25:33+0000 lvl=info msg=\"no configuration paths supplied\"\n",
            "2021-04-20 09:25:33.684 INFO    pyngrok.process.ngrok: t=2021-04-20T09:25:33+0000 lvl=info msg=\"using configuration at default config path\" path=/root/.ngrok2/ngrok.yml\n",
            "2021-04-20 09:25:33.687 INFO    pyngrok.process.ngrok: t=2021-04-20T09:25:33+0000 lvl=info msg=\"open config file\" path=/root/.ngrok2/ngrok.yml err=nil\n",
            "2021-04-20 09:25:33.692 INFO    pyngrok.process.ngrok: t=2021-04-20T09:25:33+0000 lvl=info msg=\"starting web service\" obj=web addr=127.0.0.1:4040\n",
            "2021-04-20 09:25:33.898 INFO    pyngrok.process.ngrok: t=2021-04-20T09:25:33+0000 lvl=info msg=\"tunnel session started\" obj=tunnels.session\n",
            "2021-04-20 09:25:33.899 INFO    pyngrok.process.ngrok: t=2021-04-20T09:25:33+0000 lvl=info msg=\"client session established\" obj=csess id=a81ae53ec660\n",
            "2021-04-20 09:25:33.907 INFO    pyngrok.process.ngrok: t=2021-04-20T09:25:33+0000 lvl=info msg=start pg=/api/tunnels id=89735603dbc7a0a3\n",
            "2021-04-20 09:25:33.911 INFO    pyngrok.process.ngrok: t=2021-04-20T09:25:33+0000 lvl=info msg=end pg=/api/tunnels id=89735603dbc7a0a3 status=200 dur=433.798µs\n",
            "2021-04-20 09:25:33.914 INFO    pyngrok.process.ngrok: t=2021-04-20T09:25:33+0000 lvl=info msg=start pg=/api/tunnels id=c83fdce6f49f31a5\n",
            "2021-04-20 09:25:33.916 INFO    pyngrok.process.ngrok: t=2021-04-20T09:25:33+0000 lvl=info msg=end pg=/api/tunnels id=c83fdce6f49f31a5 status=200 dur=146.401µs\n",
            "2021-04-20 09:25:33.918 INFO    pyngrok.ngrok: Opening tunnel named: http-9999-529decb1-9d22-4009-8796-83035cec4c9c\n",
            "2021-04-20 09:25:33.921 INFO    pyngrok.process.ngrok: t=2021-04-20T09:25:33+0000 lvl=info msg=start pg=/api/tunnels id=07a4b20e3f5997f8\n",
            "2021-04-20 09:25:33.926 INFO    pyngrok.process.ngrok: t=2021-04-20T09:25:33+0000 lvl=info msg=end pg=/api/tunnels id=07a4b20e3f5997f8 status=200 dur=140.995µs\n",
            "2021-04-20 09:25:33.930 INFO    pyngrok.process.ngrok: t=2021-04-20T09:25:33+0000 lvl=info msg=start pg=/api/tunnels id=e26a76b17a4c1964\n",
            "2021-04-20 09:25:34.060 INFO    pyngrok.process.ngrok: t=2021-04-20T09:25:34+0000 lvl=info msg=\"started tunnel\" obj=tunnels name=\"http-9999-529decb1-9d22-4009-8796-83035cec4c9c (http)\" addr=http://localhost:9999 url=http://12528589f99e.ngrok.io\n",
            "2021-04-20 09:25:34.064 INFO    pyngrok.process.ngrok: t=2021-04-20T09:25:34+0000 lvl=info msg=\"started tunnel\" obj=tunnels name=http-9999-529decb1-9d22-4009-8796-83035cec4c9c addr=http://localhost:9999 url=https://12528589f99e.ngrok.io\n",
            "2021-04-20 09:25:34.076 INFO    pyngrok.process.ngrok: t=2021-04-20T09:25:34+0000 lvl=info msg=end pg=/api/tunnels id=e26a76b17a4c1964 status=201 dur=133.928682ms\n",
            "2021-04-20 09:25:34.081 INFO    pyngrok.process.ngrok: t=2021-04-20T09:25:34+0000 lvl=info msg=start pg=\"/api/tunnels/http-9999-529decb1-9d22-4009-8796-83035cec4c9c (http)\" id=a76bcd93f6898044\n",
            "2021-04-20 09:25:34.085 INFO    pyngrok.process.ngrok: t=2021-04-20T09:25:34+0000 lvl=info msg=end pg=\"/api/tunnels/http-9999-529decb1-9d22-4009-8796-83035cec4c9c (http)\" id=a76bcd93f6898044 status=200 dur=161.371µs\n"
          ],
          "name": "stderr"
        },
        {
          "output_type": "stream",
          "text": [
            "Web App can be accessed on: http://12528589f99e.ngrok.io\n",
            "\n",
            "  You can now view your Streamlit app in your browser.\n",
            "\n",
            "  Network URL: http://172.28.0.2:9999\n",
            "  External URL: http://35.230.105.195:9999\n",
            "\n"
          ],
          "name": "stdout"
        },
        {
          "output_type": "stream",
          "text": [
            "2021-04-20 09:25:48.286 INFO    pyngrok.process.ngrok: t=2021-04-20T09:25:48+0000 lvl=info msg=\"join connections\" obj=join id=d84ef5761c30 l=127.0.0.1:9999 r=[2a02:8084:46e3:3080:f128:aeb5:dbdd:3e73]:59286\n",
            "2021-04-20 09:25:49.633 INFO    pyngrok.process.ngrok: t=2021-04-20T09:25:49+0000 lvl=info msg=\"join connections\" obj=join id=11855087bec6 l=127.0.0.1:9999 r=[2a02:8084:46e3:3080:f128:aeb5:dbdd:3e73]:59287\n",
            "2021-04-20 09:25:54.106 INFO    pyngrok.process.ngrok: t=2021-04-20T09:25:54+0000 lvl=info msg=\"join connections\" obj=join id=6ae49b04174e l=127.0.0.1:9999 r=[2a02:8084:46e3:3080:f128:aeb5:dbdd:3e73]:59292\n",
            "2021-04-20 09:25:54.795 INFO    pyngrok.process.ngrok: t=2021-04-20T09:25:54+0000 lvl=info msg=\"join connections\" obj=join id=69ca3480633f l=127.0.0.1:9999 r=[2a02:8084:46e3:3080:f128:aeb5:dbdd:3e73]:59294\n",
            "2021-04-20 09:25:54.807 INFO    pyngrok.process.ngrok: t=2021-04-20T09:25:54+0000 lvl=info msg=\"join connections\" obj=join id=02fdc767b794 l=127.0.0.1:9999 r=[2a02:8084:46e3:3080:f128:aeb5:dbdd:3e73]:59295\n"
          ],
          "name": "stderr"
        }
      ]
    },
    {
      "cell_type": "code",
      "metadata": {
        "id": "euM99n5mm8Zf"
      },
      "source": [
        ""
      ],
      "execution_count": null,
      "outputs": []
    }
  ]
}